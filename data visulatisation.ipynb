{
 "cells": [
  {
   "cell_type": "markdown",
   "id": "10d8e158",
   "metadata": {},
   "source": [
    "# ASSIGNMENT-4"
   ]
  },
  {
   "cell_type": "markdown",
   "id": "7ef67726",
   "metadata": {},
   "source": [
    "## Name:Nazrin Thanikattil Rafeeque,   Student ID:21031314\n"
   ]
  },
  {
   "cell_type": "code",
   "execution_count": null,
   "id": "041a121d",
   "metadata": {},
   "outputs": [],
   "source": [
    "import pandas as pd\n",
    "import numpy as np\n",
    "import wbgapi as wb\n",
    "import seaborn as sns\n",
    "import matplotlib.pyplot as plt\n",
    "import matplotlib.gridspec as gridspec\n",
    " \n"
   ]
  },
  {
   "cell_type": "code",
   "execution_count": null,
   "id": "ddc5ff52",
   "metadata": {},
   "outputs": [],
   "source": [
    "def label(Title,labels):\n",
    "    ax.set_ylabel('Rate(%)')\n",
    "    ax.set_title('Labor Force and Unemployement in Males',fontsize=15,color='#154343')\n",
    "    ax.set_xticks(x)\n",
    "    ax.set_xticklabels(labels)\n",
    "    ax.legend()"
   ]
  },
  {
   "cell_type": "markdown",
   "id": "5706b2eb",
   "metadata": {},
   "source": [
    "### Countries"
   ]
  },
  {
   "cell_type": "code",
   "execution_count": null,
   "id": "ecc1e004",
   "metadata": {},
   "outputs": [],
   "source": [
    "def plot_labels(x_label,y_label,title):\n",
    "    plt.xticks( rotation='vertical')\n",
    "    plt.xlabel(x_label)\n",
    "    plt.ylabel(y_label)\n",
    "    plt.title(title,fontsize= 15, fontweight='bold')"
   ]
  },
  {
   "cell_type": "code",
   "execution_count": null,
   "id": "b6b3863e",
   "metadata": {},
   "outputs": [],
   "source": [
    "\"\"\"Chosen a list of 12 countries \"\"\"\n",
    "\n",
    "country_codes = ['GBR','ITA','NLD','ESP','JPN','MNG','KOR','IND','LKA','PAK','USA','CAN']"
   ]
  },
  {
   "cell_type": "code",
   "execution_count": null,
   "id": "92c0b1c9",
   "metadata": {},
   "outputs": [],
   "source": [
    "\"\"\"A dictionary is created with country code to are assigned with country names\"\"\"\n",
    "\n",
    "country_names = ({'GBR':'United Kingdom','ITA':'Italy','NLD':'Netherlands',\n",
    "                'JPN':'Japan','MNG':'Mongolia','KOR':'Korea',\n",
    "                'IND':'India','LKA':'Srilanka','PAK':'Pakisthan',\n",
    "                'USA':'United States','CAN':'Canada'})"
   ]
  },
  {
   "cell_type": "code",
   "execution_count": null,
   "id": "42d28314",
   "metadata": {},
   "outputs": [],
   "source": [
    "\"\"\"A dictionary of country groups created to represent the  4 regions with keys \n",
    "being Country codes and values being country code\"\"\"\n",
    "\n",
    "country_groups =  ({'GBR':'Europe','ITA':'Europe','NLD':'Europe',\n",
    "                'ESP':'Europe','JPN':'East Asia','MNG':'East Asia','KOR':'East Asia',\n",
    "                'IND':'South Asia','LKA':'South Asia','PAK':'South Asia',\n",
    "                'USA':'North America','CAN':'North America'})"
   ]
  },
  {
   "cell_type": "markdown",
   "id": "8a7042a8",
   "metadata": {},
   "source": [
    "### Indicators"
   ]
  },
  {
   "cell_type": "code",
   "execution_count": null,
   "id": "8633a1af",
   "metadata": {},
   "outputs": [],
   "source": [
    "'''Defining the Indicator list 1 with desired Wbgapi ID's'''\n",
    "\n",
    "indicator_ids_1 = ['SL.UEM.1524.FE.NE.ZS','SL.UEM.1524.MA.NE.ZS','SL.UEM.1524.NE.ZS',\n",
    "                 'SL.TLF.ACTI.ZS','SL.TLF.ACTI.FE.ZS','SL.TLF.ACTI.MA.ZS']\n"
   ]
  },
  {
   "cell_type": "code",
   "execution_count": null,
   "id": "99c5ed61",
   "metadata": {},
   "outputs": [],
   "source": [
    "'''Defining the indicator List 2'''\n",
    "\n",
    "indicator_ids_2 = ['NY.GDP.PCAP.KD','NY.GDP.MKTP.PP.CD','SL.SRV.EMPL.ZS','SL.AGR.EMPL.ZS','SL.IND.EMPL.ZS']\n"
   ]
  },
  {
   "cell_type": "markdown",
   "id": "b6e6ed27",
   "metadata": {},
   "source": [
    "# Data Frames"
   ]
  },
  {
   "cell_type": "code",
   "execution_count": null,
   "id": "62b2b71f",
   "metadata": {},
   "outputs": [],
   "source": [
    "'''Defining the pandas DataFrame by Fetching the values  of  indicator series from wbgapi along with time \n",
    "   series for last 10 years'''\n",
    "df = wb.data.DataFrame(indicator_ids_1,country_codes, time=range(2008,2019,2),columns='series')\n"
   ]
  },
  {
   "cell_type": "code",
   "execution_count": null,
   "id": "dbd57d71",
   "metadata": {},
   "outputs": [],
   "source": [
    "'''Defining the index names for the dataframe'''\n",
    "\n",
    "df.index.names = [\"Country\",\"Year\"]"
   ]
  },
  {
   "cell_type": "code",
   "execution_count": null,
   "id": "86a324ca",
   "metadata": {},
   "outputs": [],
   "source": [
    "'''Performing multindexing on Dataframe columns & splits labor Force\n",
    "   and unemployement into level 0 and male female catogorisation as level1 columns'''\n",
    "\n",
    "\n",
    "col = pd.MultiIndex(levels=[['labor force(%)','unempoyement(%)'],['Male','Female','Total']],codes=[[0,0,0,1,1,1],[1,0,2,1,0,2]])"
   ]
  },
  {
   "cell_type": "code",
   "execution_count": null,
   "id": "b71c5f20",
   "metadata": {},
   "outputs": [],
   "source": [
    "'''Defining the multiindexed dataframe df_1,describing Labor force and unemployement for last 10 years'''\n",
    "\n",
    "df.columns = col\n",
    "df_1 = round(pd.DataFrame(df,columns=df.columns),2)\n",
    "df_1\n",
    "df_1.to_csv('Labor_unemployement.csv')"
   ]
  },
  {
   "cell_type": "code",
   "execution_count": null,
   "id": "9173cbb9",
   "metadata": {},
   "outputs": [],
   "source": [
    "'''Defining the second  DataFrame by Fetching the values  of  indicator series from wbgapi along with time \n",
    "   series from last 10 years'''\n",
    "\n",
    "df2 = wb.data.DataFrame(indicator_ids_2, country_codes, time=range(2008,2019,2),columns='series')\n"
   ]
  },
  {
   "cell_type": "code",
   "execution_count": null,
   "id": "88b0889d",
   "metadata": {},
   "outputs": [],
   "source": [
    "'''Defining the index names'''\n",
    "\n",
    "df2.index.names = [\"Country\",\"Year\"]\n"
   ]
  },
  {
   "cell_type": "code",
   "execution_count": null,
   "id": "6480dad7",
   "metadata": {},
   "outputs": [],
   "source": [
    "'''Defining the Multiindex DataFrame using list of desired Tuples in the indicator list the define the DataFrame'''\n",
    "\n",
    "col = pd.MultiIndex.from_tuples([('GDP','gross'),('GDP','PPP'),('Employement','Agriculture'),('Employement','industries'),\n",
    "                               ('Employement','Services')],  names=[\"C0\",\"C1\"])\n",
    "df2.columns = col\n",
    "df_2 = round(pd.DataFrame(df2,columns=df2.columns),2)\n",
    "df_2.head()"
   ]
  },
  {
   "cell_type": "markdown",
   "id": "24691b34",
   "metadata": {},
   "source": [
    "\n",
    "\n",
    "\n",
    "\n",
    "\n",
    "\n",
    "## Data Analysis"
   ]
  },
  {
   "cell_type": "code",
   "execution_count": null,
   "id": "1a0edbfc",
   "metadata": {},
   "outputs": [],
   "source": [
    "#creating pivot table with total labor force and finding the maximum labour force in male and female\n",
    "\n",
    "df_pivot = df_1.pivot_table(['labor force(%)'], index='Year', columns=\"Country\")\n",
    "df_max = df_pivot.max()\n",
    "display(df_pivot,df_max)"
   ]
  },
  {
   "cell_type": "code",
   "execution_count": null,
   "id": "765898c7",
   "metadata": {},
   "outputs": [],
   "source": [
    "df_maxx=df_max.reset_index()\n",
    "\n",
    "rr=df_maxx[:11].sort_values(0,ascending=True)\n",
    "kk=df_maxx[12:23].sort_values(0,ascending=True)\n",
    "dd=df_maxx[23:].sort_values(0,ascending=True)\n",
    "\n"
   ]
  },
  {
   "cell_type": "code",
   "execution_count": null,
   "id": "21d56318",
   "metadata": {},
   "outputs": [],
   "source": [
    "#Slicing the dataframe for Labour Force and Unemployement data\n",
    "idx = pd.IndexSlice\n",
    "df_agg = df_1.loc[:,idx[:,['labor force(%)','Female']]]\n",
    "df_ag = df_1.loc[:,idx[:,['labor force(%)','Male']]]\n",
    "df_agg\n",
    "\n"
   ]
  },
  {
   "cell_type": "code",
   "execution_count": null,
   "id": "2851560b",
   "metadata": {
    "scrolled": true
   },
   "outputs": [],
   "source": [
    "\"\"\"creating a sorted Pivot Table of Labor Force and Unemployement to have\n",
    "an anaysis of Countries having Highest and Lowest labour Force and Unemployement rate(Females)\"\"\"\n",
    "\n",
    "\n",
    "                 \n",
    "b =  pd.DataFrame(df_1.pivot_table(df_agg, index='Year', columns='Country').aggregate(['max','min','median']).max(),\n",
    "                  columns=[' Labour_force_and_Unemployement_Female'])\n",
    "print(b)\n",
    "\n",
    "Labor_F=b.loc[idx['labor force(%)',:],:]\n",
    "Unemployement_F=b.loc[idx['unempoyement(%)',:],:]\n",
    "\n",
    "\n",
    "xx=Labor_F.reset_index(level=[0,1]).reset_index()\n",
    "yy=Unemployement_F.reset_index(level=[0,1]).reset_index()\n",
    "labels = xx['Country']\n",
    "plt.figure(figsize=(15,8))\n",
    "\n",
    "x = np.arange(len(labels))\n",
    "width = 0.35\n",
    "fig, ax2 = plt.subplots()\n",
    "\n",
    "fem = ax2.bar(x - width / 2, xx[' Labour_force_and_Unemployement_Female'], width, label='Labor Force- Female',color='#49EEFC',edgecolor='#31b96c')\n",
    "fem2 = ax2.bar(x + width / 2, yy[' Labour_force_and_Unemployement_Female'], width, label='Unemployement Rate -Female',color='#0e8de7',edgecolor='#104677')\n",
    "\n",
    "ax2.set_ylabel('Rate(%)')\n",
    "ax2.set_title('Labor Force and Unemployement in Males',fontsize=15,color='#154343')\n",
    "ax2.set_xticks(x)\n",
    "ax2.set_xticklabels(labels)\n",
    "ax2.legend()\n",
    "def autolabel(rects):\n",
    "    for rect in rects:\n",
    "        h = rect.get_height()\n",
    "        ax2.text(rect.get_x()+rect.get_width()/2., 1.02*h, '%{}'.format(int(h)),\n",
    "                ha='center', va='bottom',fontsize=7,fontweight='book')\n",
    "\n",
    "autolabel(fem)\n",
    "autolabel(fem2)\n"
   ]
  },
  {
   "cell_type": "code",
   "execution_count": null,
   "id": "ce86f3e1",
   "metadata": {
    "scrolled": true
   },
   "outputs": [],
   "source": [
    "\"\"\"Craeting another analysis using Pivot table to isllustrate Labor Force and Unemployement among males and  to have\n",
    "an anaysis of Countries having Highest and Lowest labour Force and Unemployement rate(Males)\"\"\"\n",
    "\n",
    "\n",
    "a = pd.DataFrame(df_1.pivot_table(df_ag, index='Year', columns=\"Country\").aggregate(['max','min','median']).max()\n",
    "                 ,columns=[' Labour_force_and_Unemployement_Male'])\n",
    "a.sort_values(' Labour_force_and_Unemployement_Male',ascending=False)\n",
    "print(a)\n",
    "Labor=a.loc[idx['labor force(%)',:],:]\n",
    "Umeployement=a.loc[idx['unempoyement(%)',:],:]\n",
    "print(a)"
   ]
  },
  {
   "cell_type": "code",
   "execution_count": null,
   "id": "5fa50a47",
   "metadata": {},
   "outputs": [],
   "source": [
    "nn=Labor.reset_index(level=[0,1]).reset_index()\n",
    "mm=Umeployement.reset_index(level=[0,1]).reset_index()\n",
    "\n"
   ]
  },
  {
   "cell_type": "code",
   "execution_count": null,
   "id": "b4ab6440",
   "metadata": {},
   "outputs": [],
   "source": [
    "\"\"\"Defined a function to find the ratio between two columns of the dataframe and returned the values as dft,dff,dfm\"\"\"\n",
    "\n",
    "def umemployement_labor_Ratio(df):\n",
    "    df_Total = np.round(df['unempoyement(%)','Total'].sum() / float(df['labor force(%)','Total'].sum()),2)\n",
    "    df_Female = np.round(df['unempoyement(%)','Female'].sum() / float(df['labor force(%)','Female'].sum()),2)\n",
    "    df_Male = np.round(df['unempoyement(%)','Male'].sum() / float(df['labor force(%)','Male'].sum()),2)\n",
    "    return df_Total,df_Female,df_Male\n",
    "\n",
    "\n",
    "\n",
    "data = pd.DataFrame(df_1.groupby(level ='Country').apply(umemployement_labor_Ratio),\n",
    "                  columns = ['unemployment laborforce ratio (Total,Female ,Male)'])\n",
    "data.sort_values('unemployment laborforce ratio (Total,Female ,Male)',ascending = False)"
   ]
  },
  {
   "cell_type": "code",
   "execution_count": null,
   "id": "d06e6238",
   "metadata": {},
   "outputs": [],
   "source": [
    "\n",
    "\"\"\" five countries the highest and lowest level of GDP gross by groupby aggregate function\"\"\"\n",
    "\n",
    "idx = pd.IndexSlice\n",
    "df_agg = df_2.loc[:,idx[:,['GDP','gross']]].groupby(level=['Country']).aggregate(['max'])\n",
    "df_agg_max = df_agg.sort_values([('GDP','gross','max')],ascending=False).head(5)\n",
    "\n",
    "print(df_agg_max)"
   ]
  },
  {
   "cell_type": "code",
   "execution_count": null,
   "id": "75a7988d",
   "metadata": {},
   "outputs": [],
   "source": [
    "\"\"\"Slicing the Second Dataframe for different employement Sectors\"\"\"\n",
    "\n",
    "df_ind = df_2.loc[:,idx[:,['Employement','industries']]]\n",
    "df_agri = df_2.loc[:,idx[:,['Employement','Agriculture']]]\n",
    "df_Ser = df_2.loc[:,idx[:,['Employement','Services']]]\n",
    "\n",
    "\"\"\"Grouping and applying filter different Employement sectors having \n",
    "values greater than average Employement value in each Sectors\"\"\"\n",
    "\n",
    "a = df_ind.groupby(level = ['Country']).filter(lambda x :x['Employement'].mean()>(df_2['Employement','industries'].mean()))\n",
    "b = df_agri.groupby(level = ['Country']).filter(lambda x :x['Employement'].mean()>(df_2['Employement','Agriculture'].mean()))\n",
    "c = df_Ser.groupby(level = ['Country']).filter(lambda x :x['Employement'].mean()>(df_2['Employement','Services'].mean()))\n",
    "\n",
    "display(a,b,c)\n",
    "df_agri"
   ]
  },
  {
   "cell_type": "code",
   "execution_count": null,
   "id": "3ee43675",
   "metadata": {},
   "outputs": [],
   "source": [
    "\"\"\"Total average change in the GDP and Emplyement from 2014\"\"\"\n",
    "\n",
    "df_average = (df_2.loc[idx[:,['YR2014','YR2016','YR2018'],:]])\n",
    "pd.DataFrame(df_average.groupby(level = ['Country']).transform(lambda x: x - x.mean()).sum(),columns = ['Values'])"
   ]
  },
  {
   "cell_type": "code",
   "execution_count": null,
   "id": "a8ff3e9f",
   "metadata": {},
   "outputs": [],
   "source": [
    "\"\"\"Analysing the combined dataframes\n",
    "Merging the two dataframes df_1 and df_2 to create df_new\"\"\"\n",
    "\n",
    "\n",
    "df_new = df_1.merge(df_2,on = ['Country','Year'],how = 'outer')\n",
    "df_new\n",
    "\n",
    "df_new.groupby(level ='Country')[[['unempoyement(%)','Total'],['GDP','gross'],['Employement','Services'],['Employement',\n",
    "                                                                                                          'industries']]].mean()\n",
    "\n",
    "\n"
   ]
  },
  {
   "cell_type": "code",
   "execution_count": null,
   "id": "edec5112",
   "metadata": {},
   "outputs": [],
   "source": [
    "\n",
    "data1=df_new.loc[:,idx['labor force(%)','Total']]\n",
    "data2=df_new.loc[:,idx['unempoyement(%)','Total']]\n",
    "\n"
   ]
  },
  {
   "cell_type": "markdown",
   "id": "2f5e825f",
   "metadata": {},
   "source": [
    "It can be estimated that Unemployement can influvence the GDP of any nation Negetively by 11.11%"
   ]
  },
  {
   "cell_type": "code",
   "execution_count": null,
   "id": "e8fb47b4",
   "metadata": {},
   "outputs": [],
   "source": [
    "\"\"\"Mapping the merged dataframe with the external Dictionary 'country Groups ' and performing Groupby to have an\n",
    "   overall analysis about   unemployement ,labour Force and GDP in different regions of the world\n",
    "\"\"\"\n",
    "\n",
    "\n",
    "df_new['Region'] = df_new.index.get_level_values(0).map(country_groups)\n",
    "df_new_all=df_new.groupby('Region')[[['unempoyement(%)','Total'],['GDP','gross'],['labor force(%)','Total']]].mean()\n",
    "print(df_new_all)\n",
    "GDP=df_new_all.loc[:,idx['GDP','gross']]\n",
    "GDP\n",
    "print(GDP)\n",
    "df_new_all.corr()"
   ]
  },
  {
   "cell_type": "code",
   "execution_count": null,
   "id": "5a03e943",
   "metadata": {},
   "outputs": [],
   "source": [
    "df_emp = df_new.groupby('Region').apply(lambda x : x.mean())[['Employement','labor force(%)','GDP']]"
   ]
  },
  {
   "cell_type": "code",
   "execution_count": null,
   "id": "619a7b5f",
   "metadata": {},
   "outputs": [],
   "source": [
    "df_emp"
   ]
  },
  {
   "cell_type": "code",
   "execution_count": null,
   "id": "d9106c20",
   "metadata": {},
   "outputs": [],
   "source": [
    "dfemp_ind = df_emp.loc[:,idx[:,['Employement','industries']]]\n",
    "dfemp_agri = df_emp.loc[:,idx[:,['Employement','Agriculture']]]\n",
    "dfemp_Ser = df_emp.loc[:,idx[:,['Employement','Services']]]\n",
    "print(dfemp_agri)\n",
    "\n",
    "k=df_emp.Employement\n",
    "print(k)\n"
   ]
  },
  {
   "cell_type": "code",
   "execution_count": null,
   "id": "2e4dcf77",
   "metadata": {},
   "outputs": [],
   "source": [
    "plt.figure(figsize=(15,8))\n",
    "gs9 = gridspec.GridSpec(nrows=4,ncols=4)\n",
    "gs9.update(left=0.05,right=0.98,hspace=0.3,bottom=.4)\n",
    "ax15=plt.subplot(gs9[:2,0:3])\n",
    "\n",
    "x = np.arange(len(labels))\n",
    "width = 0.35\n",
    "#two bar graphs(rects1 and rects2 are plotted)\n",
    "\n",
    "rects1 = ax15.bar(x - width / 2, nn[' Labour_force_and_Unemployement_Male'], width, label='Labor Force- Male',\n",
    "                 color='#12f8b2',edgecolor='black')\n",
    "rects2 = ax15.bar(x + width / 2, mm[' Labour_force_and_Unemployement_Male'], width, label='Unemployement Rate -Male',\n",
    "                 color='#0e8de7',edgecolor='black')\n",
    "ax15.set_facecolor('#C9FFFF')\n",
    "\n",
    "\n",
    "ax15.set_ylabel('Rate(%)')\n",
    "ax15.set_title('Labour Force and Unemployement variation Male',fontsize = 15,color ='#0C1EB1',fontweight = 'bold')\n",
    "ax15.set_xticks(x)\n",
    "ax15.set_xticklabels(labels)\n",
    "ax15.legend()\n",
    "def autolabel(rects):\n",
    "    for rect in rects:\n",
    "        h = rect.get_height()\n",
    "        ax15.text(rect.get_x()+rect.get_width()/2., 1.02*h, '%{}'.format(int(h)),\n",
    "                ha='center', va='bottom',fontsize=12,fontweight='book')\n",
    "autolabel(rects1)\n",
    "autolabel(rects2)\n",
    "\n",
    "\n",
    "ax16=plt.subplot(gs9[2:4,0:3])\n",
    "x = np.arange(len(labels))\n",
    "width = 0.35\n",
    "fem = ax16.bar(x - width / 2, xx[' Labour_force_and_Unemployement_Female'], width, label='Labor Force- Female'\n",
    "              ,color='#49EEFC',edgecolor='#31b96c')\n",
    "fem2 = ax16.bar(x + width / 2, yy[' Labour_force_and_Unemployement_Female'], width, label='Unemployement Rate -Female'\n",
    "               ,color='#0e8de7',edgecolor='#104677')\n",
    "#setting the background color\n",
    "ax16.set_facecolor('#DAFDCC')\n",
    "\n",
    "ax16.set_ylabel('Rate(%)')\n",
    "ax16.set_title('Labour Force and Unemployement variation Male',fontsize = 15,color ='#0C1EB1',fontweight = 'bold')\n",
    "ax16.set_xticks(x)\n",
    "ax16.set_xticklabels(labels)\n",
    "ax16.legend()\n",
    "\n",
    "def autolabel(rects):\n",
    "    for rect in rects:\n",
    "        h = rect.get_height()\n",
    "        ax16.text(rect.get_x()+rect.get_width()/2., 1.02*h, '%{}'.format(int(h)),\n",
    "                ha='center', va='bottom',fontsize=12,fontweight='book')\n",
    "autolabel(fem)\n",
    "autolabel(fem2)\n"
   ]
  },
  {
   "cell_type": "markdown",
   "id": "9444dcf6",
   "metadata": {},
   "source": [
    "# Mathplott Plotting"
   ]
  },
  {
   "cell_type": "code",
   "execution_count": null,
   "id": "1f6f08ae",
   "metadata": {},
   "outputs": [],
   "source": [
    "\"\"\"Defining functions for plotting the labor force male and female using lollipop plotting \n",
    "   structure,defined the clor,line width,facecolor and labels for the plotting\"\"\"\n",
    "def plott(data_frame,ax,scatter_color,labels):\n",
    "    ax.vlines(x=data_frame['Country'], ymin = 0, ymax = data_frame[0], color = 'blue', alpha = 0.7, linewidth=3,label = labels)\n",
    "    ax.scatter(x=data_frame['Country'], y = data_frame[0], s = 75, color=scatter_color, alpha = 0.7)\n",
    "    ax.set_facecolor('#C0F9AB')\n",
    "    ax.set_xlabel('Countries')\n",
    "    ax.set_xlabel('Value')\n",
    "    ax.legend()\n",
    "    \n",
    "    \n",
    "\"\"\"Defining a line plot with three dataframes of agriculture,industries and Services across\n",
    "different countries during the period of consideration,given marker ,labels and grid as well\"\"\"\n",
    "\n",
    "def plott_1(data_frame,color):\n",
    "    ax3.set_title('How employement sectors vary across Countries',pad = 5,fontsize = 15,color = '#0C1EB1',fontweight = 'bold')\n",
    "    data_frame.plot(kind='line',linewidth = 5,marker ='o',markersize = 6,color = color,label = 'Agriculture',ax = ax3,grid =True)\n",
    "    ax3.set_facecolor('#C9FFFF')\n",
    "    ax3.legend()\n",
    "    \n",
    "    \n",
    "\"\"\"Defined the plotting labels and annotation for the bar graph defned below,\n",
    "annotation is done by calculating the height and top midpoint of the graph to depict the value\"\"\"\n",
    "    \n",
    "def plott_2(bar_1,bar_2,title,ax):\n",
    "    ax.set_ylabel('Rate(%)')\n",
    "    ax.set_title(title,fontsize = 15,color ='#0C1EB1',fontweight = 'bold')\n",
    "    ax.set_xticks(x)\n",
    "    ax.set_xticklabels(labels)\n",
    "    ax.legend()\n",
    "    def autolabel(rects):\n",
    "        for rect in rects:\n",
    "            h = rect.get_height()\n",
    "            ax.text(rect.get_x()+rect.get_width()/2., 1.02*h, '%{}'.format(int(h)),\n",
    "                ha='center', va='bottom',fontsize=12,fontweight='book')\n",
    "    autolabel(bar_1)\n",
    "    autolabel(bar_2)\n",
    "    \n",
    "\"\"\"Defining pie chats ,annotations given and text labels added with color custom\"\"\"   \n",
    "def plott_3(data_frame,title,ax):\n",
    "    colors = ( \"#0efcb3\", \"#01d481\", \"#6eeeef\",\n",
    "          \"#82c2f2\")\n",
    "    ax.text(0.5,-0.1,title, size = 20, ha=\"center\", \n",
    "         transform = ax.transAxes,fontsize = 22,fontweight='bold')\n",
    "    ax.pie(data_frame, labels = data_frame.index,shadow=True,startangle=90, autopct=\"%1.1f%%\",colors = colors,radius=1.3,\n",
    "                    textprops = {'fontsize': 18})\n"
   ]
  },
  {
   "cell_type": "code",
   "execution_count": null,
   "id": "d5dd9e4b",
   "metadata": {},
   "outputs": [],
   "source": [
    "plt.figure(figsize=(45,30))\n",
    "\n",
    "#Defining a 2*2 grid for plotting and update the grid with spaces required in left ,right,bottom\n",
    "\n",
    "\n",
    "gs3 = gridspec.GridSpec(nrows=2,ncols=4)\n",
    "gs3.update(left=0.05,right=0.45,hspace=0.3,bottom=.4)\n",
    "\n",
    "#first axis in the defined grid is assigned ,titled and plotted\n",
    "ax1 = plt.subplot(gs3[0,0])\n",
    "ax1.set_title('Male and female Labor Force in different countries',fontsize=15,color='#0C1EB1',fontweight='bold')\n",
    "plott(kk,ax1,'#ff9999','Labor_Force_Female')\n",
    "\n",
    "#secong axis for plotting defined at[0,1],and plott function is called\n",
    "ax2 = plt.subplot(gs3[0,1])\n",
    "plott(rr,ax2,'blue','Labor_Force_Male')\n",
    "\n",
    "#Line graph is plotted in third grid space\n",
    "ax3=plt.subplot(gs3[1,0:2])\n",
    "plott_1(df_agri,'green')\n",
    "plott_1(df_ind,'blue')\n",
    "plott_1(df_Ser,'#01d481')\n",
    "\n",
    "#Second gridspace is defined with 2*2 rows and columns defined the spaceneeded for it.(left,right)\n",
    "gs4= gridspec.GridSpec(nrows = 2,ncols = 2)\n",
    "gs4.update(left = 0.5,right=0.98,bottom =.4,hspace = 0.3)\n",
    "\n",
    "plt.figure(figsize=(20,15))\n",
    "#axis4 is defined withinthe grid from([0 to 0:2])\n",
    "ax4=plt.subplot(gs3[0,2:3])\n",
    "\n",
    "\n",
    "#defining the bars in the barplot defining its width\n",
    "x = np.arange(len(labels))\n",
    "width = 0.35\n",
    "#two bar graphs(rects1 and rects2 are plotted)\n",
    "\n",
    "rects1 = ax4.bar(x - width / 2, nn[' Labour_force_and_Unemployement_Male'], width, label='Labor Force- Male',\n",
    "                 color='#12f8b2',edgecolor='black')\n",
    "rects2 = ax4.bar(x + width / 2, mm[' Labour_force_and_Unemployement_Male'], width, label='Unemployement Rate -Male',\n",
    "                 color='#0e8de7',edgecolor='black')\n",
    "ax4.set_facecolor('#C9FFFF')\n",
    "\n",
    "plott_2(rects1,rects2,' Labour_force_and_Unemployement_Male',ax4)\n",
    "\n",
    "#axis4 is defined withinthe grid from([1 to 0:2])\n",
    "ax5=plt.subplot(gs3[1,2:3])\n",
    "\n",
    "#defining the bars in the barplot defining its width\n",
    "x = np.arange(len(labels))\n",
    "width = 0.35\n",
    "fem = ax5.bar(x - width / 2, xx[' Labour_force_and_Unemployement_Female'], width, label='Labor Force- Female'\n",
    "              ,color='#49EEFC',edgecolor='#31b96c')\n",
    "fem2 = ax5.bar(x + width / 2, yy[' Labour_force_and_Unemployement_Female'], width, label='Unemployement Rate -Female'\n",
    "               ,color='#0e8de7',edgecolor='#104677')\n",
    "#setting the background color\n",
    "ax5.set_facecolor('#DAFDCC')\n",
    "plott_2(fem,fem2,' Labour_force_and_Unemployement_Female',ax5)\n",
    "\n",
    "#Defining the 3rd grid with 2 rows and columns with .05 from left,.38% from right and 80% from top\n",
    "gs5= gridspec.GridSpec(nrows = 2,ncols = 2)\n",
    "gs5.update(left = 0.05,right = 0.38,hspace = 0.2,top = .8,bottom = .2)\n",
    "\n",
    "#Defining the axis plot for Pie Diagrams for Agriculture,industries and Services\n",
    "ax6 = plt.subplot(gs5[0,0])\n",
    "#setting the title\n",
    "ax6.set_title('How employement Sectors varies across the world',fontsize=22,fontweight='bold',color='#0C1EB1',pad=12)\n",
    "\n",
    "#calling plott function\n",
    "\n",
    "plott_3(k['Agriculture'],'Agriculture',ax6)\n",
    "\n",
    "#plott_3(df_agri,'Agriculture',ax6)\n",
    "\n",
    "ax7= plt.subplot(gs5[0,1])\n",
    "plott_3(k['industries'],'Industries',ax7)\n",
    "  \n",
    "ax8= plt.subplot(gs5[1,0])\n",
    "plott_3(k['Services'],'Services',ax8)\n",
    "\n",
    "#Defining the grid space for plotting the GDP and its dependence on Unemployement\n",
    "\n",
    "gs6= gridspec.GridSpec(nrows=2,ncols=2)\n",
    "gs6.update(left=0.45,right=0.98,hspace=0.2,top=.8,bottom=.2)\n",
    "\n",
    "ax9= plt.subplot(gs6[:2,0:1])\n",
    "plott_3(GDP,'GDP',ax9)\n",
    "\n",
    "\n",
    "#defining the axis for  plotting correlation of GDP and unemployement\n",
    "ax10=plt.subplot(gs6[:2,1:2])\n",
    "df_new_all.corr().plot(ax=ax10,linewidth=10,color=[\"#0efcb3\", 'blue', \"#6eeeef\"],linestyle='solid')\n",
    "\n",
    "plt.title('How Unemployement affects the GDP of nations',fontsize=20,\n",
    "        fontweight='bold',color='#0C1EB1')\n",
    "plt.xticks([])  #removing the xlabels and Ylabels\n",
    "plt.yticks([])\n",
    "\n",
    "\n",
    "plt.subplots_adjust(top=0.90)\n",
    "plt.show()\n",
    "#(saving the figure)\n",
    "plt.savefig(\"plott.pdf\")\n"
   ]
  },
  {
   "cell_type": "markdown",
   "id": "a6a08b11",
   "metadata": {},
   "source": [
    "This illustration is basically done to understand How many people are unemployed now? How much is the labour force\n",
    "either employed or unemployed and actively look for the jobs? Does gender is a factor that decides the employability\n",
    "of any individual?Which are the employement Sector that contribute to a Nations GDP at the most.And How all these\n",
    "factors influvence the GDP of nations.\n",
    "\n",
    "The Labor Force is first visulalised using the Lollipop graph.This Sorted graph indicates that Countries like Pakistha\n",
    "n,Japan and Netherlands have more labor force in males and Canada,Netherlands have the highest Female Labor force thi\n",
    "s indicates that Netherlands maintain apprecianle Gender equality in labor Force.The third Axis Line graph indicates that\n",
    "The trend in Different Employement Sector variation over last 10 years.Can infer that Canada ,USA,Pakisthan give a more \n",
    "employability in Service Sector,India and USA gives Importance to agriculture\n",
    ",Most of the Countries give similar importance to Industrail Sector,Italy Being the Highest.This information can be better \n",
    "read by the above line Graph\n",
    "\n",
    "The Bar plot give a comparison of labour Force and Unempoyement Rate among MAles and Females Across the Country.From these \n",
    "we can see that countries like India Italyand mangolia give lesser employement oppurtunity for Females when Compared with males\n",
    "Spain give more importance to females.\n",
    "\n",
    "Pie Diagrams give the comparison of how different Sectors varied across regions .It can be seen that East Asian Countries give \n",
    "more importance to agriculture and Europien countries concentrate on GDP.This pecularity is well affected by the GDP of nations.\n",
    "Because,the countries give Service sector importance have the Highest GDP.\n",
    "\n",
    "The final Line Diagram Indicates that Unemployement highly affects the GDP of NAtions Negetively by around 25%.This line graph\n",
    "Steaps well indicate this fact."
   ]
  },
  {
   "cell_type": "markdown",
   "id": "5476824a",
   "metadata": {},
   "source": [
    "# END"
   ]
  }
 ],
 "metadata": {
  "kernelspec": {
   "display_name": "Python 3 (ipykernel)",
   "language": "python",
   "name": "python3"
  },
  "language_info": {
   "codemirror_mode": {
    "name": "ipython",
    "version": 3
   },
   "file_extension": ".py",
   "mimetype": "text/x-python",
   "name": "python",
   "nbconvert_exporter": "python",
   "pygments_lexer": "ipython3",
   "version": "3.9.7"
  }
 },
 "nbformat": 4,
 "nbformat_minor": 5
}
