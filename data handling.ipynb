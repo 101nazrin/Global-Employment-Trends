{
 "cells": [
  {
   "cell_type": "markdown",
   "id": "6dc3394e",
   "metadata": {},
   "source": [
    "# Assignment 2 - Pandas"
   ]
  },
  {
   "cell_type": "markdown",
   "id": "6c5e66e3",
   "metadata": {},
   "source": [
    "#### Name  :NAZRIN ,  Surname: THANIKATTIL RAFEEQUE, Student ID : 21031314"
   ]
  },
  {
   "cell_type": "markdown",
   "id": "67b75adb",
   "metadata": {},
   "source": [
    "## The Story"
   ]
  },
  {
   "cell_type": "markdown",
   "id": "efdd39d2",
   "metadata": {},
   "source": [
    "How many people are unemployed now? How much is the labour force either employed or unemployed and actively look for the jobs? Does gender is a factor that decides the employability of any individual? Above all, how these constrains are interconnected to the health of an economy? All these conceptions are statistically analysed and discussed.\n",
    "\n",
    "This Analysis construe that Netherlands seems to have the highest labour force of 80.31% with India and Sri Lanka being the least number of 57.93 and 59.86% of labour force with the total population. Netherlands and Canada have the highest female labour force of 75.75 %and 75.13 %with the last being Pakistan 24.24%. The Highest rate of Unemployment among Females and Females are at Spain and Italy (about 50% of total female population). and Lowest is at Pakistan \n",
    "\n",
    "Unemployment ratio to the total labour force in countries are analysed to see that Spain and Italy are having the highest unemployment rate and Pakistan and Japan has the lowest. From this analysis it can be incurred that gender is another factor that determines employability in few countries like Sri Lanka ,India and Italy female unemployment rate is quiet high comparing with males.\n",
    "\n",
    "While taking the economy of different countries USA and India have highest GDP value .It can be seen that GDP and unemployment are correlated by 11.11 % negatively to infer that unemployment effects the economy of every nation  adversely evaluation of  different employment sectors prove that most of the highly GDP rated countries give immense opportunities in Service sector  jobs rather than agriculture and industries and it is increasing rapidly over last 4 years. whereas the south Asian countries mainly employed in agricultural and industries. However in recent years the service sector growing at a very faster rate in the developing countries and is contributing a major share in terms of output, income and employment. Even the productivity per worker is becoming higher in-service sector when compared to agriculture and industrial sectors. \n",
    "\n",
    "On making a region wise comparison it can be concluded that North American Countries Have the least Unemployment and Labour force Rate, wherein they maintain a 78 % of their total employability in service Sector and provide employability irrespective of their Gender and maintain the highest GDP rate as well. South Asian countries occupy the second level with Lower unemployment rate and high GDP by focussing on all employment sectors almost equally , however they fail to attain The gender equality in employment .At the same time the European countries interestingly have a high value of unemployement,but maintain gender equality and higher value of GDP by enhancing their employability in Service sectors.\n"
   ]
  },
  {
   "cell_type": "markdown",
   "id": "981766a2",
   "metadata": {},
   "source": [
    "## Data Preparation"
   ]
  },
  {
   "cell_type": "code",
   "execution_count": 1,
   "id": "8f199620",
   "metadata": {},
   "outputs": [],
   "source": [
    "import pandas as pd\n",
    "import numpy as np\n",
    "import wbgapi as wb"
   ]
  },
  {
   "cell_type": "markdown",
   "id": "5706b2eb",
   "metadata": {},
   "source": [
    "### Countries"
   ]
  },
  {
   "cell_type": "code",
   "execution_count": 2,
   "id": "b6b3863e",
   "metadata": {},
   "outputs": [],
   "source": [
    "\"\"\"Chosen a list of 12 countries \"\"\"\n",
    "\n",
    "country_codes = ['GBR','ITA','NLD','ESP','JPN','MNG','KOR','IND','LKA','PAK','USA','CAN']"
   ]
  },
  {
   "cell_type": "code",
   "execution_count": 3,
   "id": "92c0b1c9",
   "metadata": {},
   "outputs": [],
   "source": [
    "\"\"\"A dictionary is created with country code to are assigned with country names\"\"\"\n",
    "\n",
    "country_names = ({'GBR':'United Kingdom','ITA':'Italy','NLD':'Netherlands',\n",
    "                'JPN':'Japan','MNG':'Mongolia','KOR':'Korea',\n",
    "                'IND':'India','LKA':'Srilanka','PAK':'Pakisthan',\n",
    "                'USA':'United States','CAN':'Canada'})"
   ]
  },
  {
   "cell_type": "code",
   "execution_count": 4,
   "id": "42d28314",
   "metadata": {},
   "outputs": [],
   "source": [
    "\"\"\"A dictionary of country groups created to represent the  4 regions with keys \n",
    "being Country codes and values being country code\"\"\"\n",
    "\n",
    "country_groups =  ({'GBR':'Europe','ITA':'Europe','NLD':'Europe',\n",
    "                'ESP':'Europe','JPN':'East Asia','MNG':'East Asia','KOR':'East Asia',\n",
    "                'IND':'South Asia','LKA':'South Asia','PAK':'South Asia',\n",
    "                'USA':'North America','CAN':'North America'})"
   ]
  },
  {
   "cell_type": "markdown",
   "id": "8a7042a8",
   "metadata": {},
   "source": [
    "### Indicators"
   ]
  },
  {
   "cell_type": "code",
   "execution_count": null,
   "id": "d4eaa741",
   "metadata": {},
   "outputs": [],
   "source": [
    "'''Search for indicators in umemployement in world bank data'''\n",
    "wb.search(\"unemployment\")"
   ]
  },
  {
   "cell_type": "code",
   "execution_count": null,
   "id": "5854701e",
   "metadata": {},
   "outputs": [],
   "source": [
    "'''Description regarding the chosen indicators is searched'''\n",
    "\n",
    "wb.series.info(\"SL.UEM.1524.FE.NE.ZS\")\n",
    "\n",
    "'''Defining the Indicator list 1 with desired Wbgapi ID's'''\n",
    "\n",
    "indicator_ids_1 = ['SL.UEM.1524.FE.NE.ZS','SL.UEM.1524.MA.NE.ZS','SL.UEM.1524.NE.ZS',\n",
    "                 'SL.TLF.ACTI.ZS','SL.TLF.ACTI.FE.ZS','SL.TLF.ACTI.MA.ZS']\n"
   ]
  },
  {
   "cell_type": "code",
   "execution_count": null,
   "id": "a4afa2e4",
   "metadata": {},
   "outputs": [],
   "source": [
    "wb.series.info('SL.UEM.1524.MA.NE.ZS')"
   ]
  },
  {
   "cell_type": "code",
   "execution_count": null,
   "id": "72e75737",
   "metadata": {},
   "outputs": [],
   "source": [
    "wb.series.info('SL.UEM.1524.NE.ZS')"
   ]
  },
  {
   "cell_type": "code",
   "execution_count": null,
   "id": "4469db2a",
   "metadata": {},
   "outputs": [],
   "source": [
    "'''Search indicators for Labor Force in World Bank Data'''\n",
    "wb.search(\"Force\")"
   ]
  },
  {
   "cell_type": "code",
   "execution_count": null,
   "id": "f07d56f2",
   "metadata": {},
   "outputs": [],
   "source": [
    "'''Gathered information regarding the selected indicators'''\n",
    "\n",
    "wb.series.info('SL.TLF.ACTI.ZS')\n",
    "wb.series.info('SL.TLF.ACTI.FE.ZS')\n",
    "wb.series.info('SL.TLF.ACTI.MA.ZS')"
   ]
  },
  {
   "cell_type": "code",
   "execution_count": null,
   "id": "8633a1af",
   "metadata": {},
   "outputs": [],
   "source": [
    "'''Defining the Indicator list 1 with desired Wbgapi ID's'''\n",
    "\n",
    "indicator_ids_1 = ['SL.UEM.1524.FE.NE.ZS','SL.UEM.1524.MA.NE.ZS','SL.UEM.1524.NE.ZS',\n",
    "                 'SL.TLF.ACTI.ZS','SL.TLF.ACTI.FE.ZS','SL.TLF.ACTI.MA.ZS']\n"
   ]
  },
  {
   "cell_type": "code",
   "execution_count": null,
   "id": "db0f3f37",
   "metadata": {},
   "outputs": [],
   "source": [
    "'''Searching for desired indicators for second dataframe'''\n",
    "\n",
    "wb.search(\"employment\")"
   ]
  },
  {
   "cell_type": "code",
   "execution_count": null,
   "id": "bfed5976",
   "metadata": {},
   "outputs": [],
   "source": [
    "wb.search(\"gdp\")"
   ]
  },
  {
   "cell_type": "markdown",
   "id": "3eaa67d8",
   "metadata": {},
   "source": [
    "'''SL.IND.EMPL.MA.ZS : Employment in industry, male (% of male employment) (modeled ILO estimate)\n",
    "   SL.SRV.EMPL.ZS : Employment in services (% of total employment) (modeled ILO estimate)\n",
    "   SL.AGR.EMPL.ZS : Employment in agriculture (% of total employment) (modeled ILO estimate)\n",
    "   SL.IND.EMPL.FE.ZS : Employment in industry, female (% of female employment) (modeled ILO estimate)\n",
    "   SL.IND.EMPL.ZS : Employment in industry (% of total employment) (modeled ILO estimate)\n",
    "   NY.GDP.MKTP.CD : GDP (current US$)\n",
    "   '''\n"
   ]
  },
  {
   "cell_type": "code",
   "execution_count": null,
   "id": "99c5ed61",
   "metadata": {},
   "outputs": [],
   "source": [
    "'''Defining the indicator List 2'''\n",
    "\n",
    "indicator_ids_2 = ['NY.GDP.PCAP.KD','NY.GDP.MKTP.PP.CD','SL.SRV.EMPL.ZS','SL.AGR.EMPL.ZS','SL.IND.EMPL.ZS']\n"
   ]
  },
  {
   "cell_type": "markdown",
   "id": "b6e6ed27",
   "metadata": {},
   "source": [
    "# Data Frames"
   ]
  },
  {
   "cell_type": "code",
   "execution_count": null,
   "id": "62b2b71f",
   "metadata": {},
   "outputs": [],
   "source": [
    "'''Defining the pandas DataFrame by Fetching the values  of  indicator series from wbgapi along with time \n",
    "   series for last 10 years'''\n",
    "df = wb.data.DataFrame(indicator_ids_1,country_codes, time=range(2008,2019,2),columns='series')\n",
    "df"
   ]
  },
  {
   "cell_type": "code",
   "execution_count": null,
   "id": "dbd57d71",
   "metadata": {},
   "outputs": [],
   "source": [
    "'''Defining the index names for the dataframe'''\n",
    "\n",
    "df.index.names = [\"Country\",\"Year\"]"
   ]
  },
  {
   "cell_type": "code",
   "execution_count": null,
   "id": "86a324ca",
   "metadata": {},
   "outputs": [],
   "source": [
    "'''Performing multindexing on Dataframe columns & splits labor Force\n",
    "   and unemployement into level 0 and male female catogorisation as level1 columns'''\n",
    "\n",
    "\n",
    "col = pd.MultiIndex(levels=[['labor force(%)','unempoyement(%)'],['Male','Female','Total']],codes=[[0,0,0,1,1,1],[1,0,2,1,0,2]])"
   ]
  },
  {
   "cell_type": "code",
   "execution_count": null,
   "id": "b71c5f20",
   "metadata": {},
   "outputs": [],
   "source": [
    "'''Defining the multiindexed dataframe df_1,describing Labor force and unemployement for last 10 years'''\n",
    "\n",
    "df.columns = col\n",
    "df_1 = round(pd.DataFrame(df,columns=df.columns),2)\n",
    "df_1\n"
   ]
  },
  {
   "cell_type": "code",
   "execution_count": null,
   "id": "9173cbb9",
   "metadata": {},
   "outputs": [],
   "source": [
    "'''Defining the second  DataFrame by Fetching the values  of  indicator series from wbgapi along with time \n",
    "   series from last 10 years'''\n",
    "\n",
    "df2 = wb.data.DataFrame(indicator_ids_2, country_codes, time=range(2008,2019,2),columns='series')\n"
   ]
  },
  {
   "cell_type": "code",
   "execution_count": null,
   "id": "88b0889d",
   "metadata": {},
   "outputs": [],
   "source": [
    "'''Defining the index names'''\n",
    "\n",
    "df2.index.names = [\"Country\",\"Year\"]\n"
   ]
  },
  {
   "cell_type": "code",
   "execution_count": null,
   "id": "6480dad7",
   "metadata": {},
   "outputs": [],
   "source": [
    "'''Defining the Multiindex DataFrame using list of desired Tuples in the indicator list the define the DataFrame'''\n",
    "\n",
    "col = pd.MultiIndex.from_tuples([('GDP','gross'),('GDP','PPP'),('Employement','Agriculture'),('Employement','industries'),\n",
    "                               ('Employement','Services')],  names=[\"C0\",\"C1\"])\n",
    "df2.columns = col\n",
    "df_2 = round(pd.DataFrame(df2,columns=df2.columns),2)\n",
    "df_2"
   ]
  },
  {
   "cell_type": "markdown",
   "id": "24691b34",
   "metadata": {},
   "source": [
    "\n",
    "\n",
    "\n",
    "\n",
    "\n",
    "\n",
    "## Data Analysis"
   ]
  },
  {
   "cell_type": "code",
   "execution_count": null,
   "id": "1a0edbfc",
   "metadata": {},
   "outputs": [],
   "source": [
    "#creating pivot table with total labor force and finding the maximum labour force in male and female\n",
    "\n",
    "df_pivot = df_1.pivot_table(['labor force(%)'], index='Year', columns=\"Country\")\n",
    "df_max = df_pivot.max()\n",
    "display(df_pivot,df_max)"
   ]
  },
  {
   "cell_type": "markdown",
   "id": "c00baa54",
   "metadata": {},
   "source": [
    "Nethrlands seems to have the highest labour force of 80.31% when comparing with other countries,with India and Srilanka being the least number of 57.93 and 59.86% of labour force with the total population.In this Japan have the highest male force of JPN - 86.47%.Netherlands and canada have the highest female labor force of 75.75 and 75.13 with the last being pakisthan 24.24%."
   ]
  },
  {
   "cell_type": "code",
   "execution_count": null,
   "id": "21d56318",
   "metadata": {},
   "outputs": [],
   "source": [
    "#Slicing the dataframe for Labour Force and Unemployement data\n",
    "idx = pd.IndexSlice\n",
    "df_agg = df_1.loc[:,idx[:,['labor force(%)','Female']]]\n",
    "df_ag = df_1.loc[:,idx[:,['labor force(%)','Male']]]\n",
    "df_agg"
   ]
  },
  {
   "cell_type": "code",
   "execution_count": null,
   "id": "2851560b",
   "metadata": {
    "scrolled": true
   },
   "outputs": [],
   "source": [
    "\"\"\"creating a sorted Pivot Table of Labor Force and Unemployement to have\n",
    "an anaysis of Countries having Highest and Lowest labour Force and Unemployement rate(Females)\"\"\"\n",
    "\n",
    "\n",
    "b =  pd.DataFrame(df_1.pivot_table(df_agg, index='Year', columns='Country').aggregate(['max','min','median']).max())\n",
    "b\n"
   ]
  },
  {
   "cell_type": "markdown",
   "id": "971fef9a",
   "metadata": {},
   "source": [
    "Countries Like Netherlands and Canada are having Highest rate of Female Labour Force and the Lowest being Pakisthan and India .\n",
    "The Highest rate of Unemployement among Females is at Spain and Italy(about 50% of total female population). and Lowest is at Pakisthan(6.78%) "
   ]
  },
  {
   "cell_type": "code",
   "execution_count": null,
   "id": "ce86f3e1",
   "metadata": {},
   "outputs": [],
   "source": [
    "\"\"\"Craeting another analysis using Pivot table to isllustrate Labor Force and Unemployement among males and  to have\n",
    "an anaysis of Countries having Highest and Lowest labour Force and Unemployement rate(Males)\"\"\"\n",
    "\n",
    "\n",
    "a = pd.DataFrame(df_1.pivot_table(df_ag, index='Year', columns=\"Country\").aggregate(['max','min','median']).max()\n",
    "                 ,columns=[' Labour force and Unemployement Male'])\n",
    "a.sort_values(' Labour force and Unemployement Male',ascending=False)"
   ]
  },
  {
   "cell_type": "code",
   "execution_count": null,
   "id": "b4ab6440",
   "metadata": {},
   "outputs": [],
   "source": [
    "\"\"\"Defined a function to find the ratio between two columns of the dataframe and returned the values as dft,dff,dfm\"\"\"\n",
    "\n",
    "def umemployement_labor_Ratio(df):\n",
    "    df_Total = np.round(df['unempoyement(%)','Total'].sum() / float(df['labor force(%)','Total'].sum()),2)\n",
    "    df_Female = np.round(df['unempoyement(%)','Female'].sum() / float(df['labor force(%)','Female'].sum()),2)\n",
    "    df_Male = np.round(df['unempoyement(%)','Male'].sum() / float(df['labor force(%)','Male'].sum()),2)\n",
    "    return df_Total,df_Female,df_Male\n",
    "\n",
    "\n",
    "\n",
    "data = pd.DataFrame(df_1.groupby(level ='Country').apply(umemployement_labor_Ratio),\n",
    "                  columns = ['unemployment laborforce ratio (Total,Female ,Male)'])\n",
    "data.sort_values('unemployment laborforce ratio (Total,Female ,Male)',ascending = False)"
   ]
  },
  {
   "cell_type": "markdown",
   "id": "e9df4a2e",
   "metadata": {},
   "source": [
    "Unemployement ratio to the total labour force in countries are analysed to see that spain and\n",
    "italy are having the highest umemployement rate and pakisthan and japan has the lowest"
   ]
  },
  {
   "cell_type": "markdown",
   "id": "f36d1989",
   "metadata": {},
   "source": [
    "Countries Like Japan and Netherlands are having Highest rate of Male Labour Force and the Lowest being Italy and Mangolia Comparably . The Highest rate of Unemployement among males is at Spain and Italy(about 50% of total male population). and Lowest is at Pakisthan(8.16%)"
   ]
  },
  {
   "cell_type": "code",
   "execution_count": null,
   "id": "d06e6238",
   "metadata": {},
   "outputs": [],
   "source": [
    "\n",
    "\"\"\" five countries the highest and lowest level of GDP gross by groupby aggregate function\"\"\"\n",
    "\n",
    "idx = pd.IndexSlice\n",
    "df_agg = df_2.loc[:,idx[:,['GDP','gross']]].groupby(level=['Country']).aggregate(['max'])\n",
    "df_agg_max = df_agg.sort_values([('GDP','gross','max')],ascending=False).head(5)\n",
    "\n",
    "print(df_agg_max)"
   ]
  },
  {
   "cell_type": "markdown",
   "id": "9401516e",
   "metadata": {},
   "source": [
    "ON grouping Countries over last 10 years USA have the highest GDP gross and Mangolia being the least"
   ]
  },
  {
   "cell_type": "code",
   "execution_count": null,
   "id": "75a7988d",
   "metadata": {},
   "outputs": [],
   "source": [
    "\"\"\"Slicing the Second Dataframe for different employement Sectors\"\"\"\n",
    "\n",
    "df_emp = df_2.loc[:,idx[:,['Employement','industries']]]\n",
    "df_agri = df_2.loc[:,idx[:,['Employement','Agriculture']]]\n",
    "df_Ser = df_2.loc[:,idx[:,['Employement','Services']]]\n",
    "\n",
    "\"\"\"Grouping and applying filter different Employement sectors having \n",
    "values greater than average Employement value in each Sectors\"\"\"\n",
    "\n",
    "a = df_emp.groupby(level = ['Country']).filter(lambda x :x['Employement'].mean()>(df_2['Employement','industries'].mean()))\n",
    "b = df_agri.groupby(level = ['Country']).filter(lambda x :x['Employement'].mean()>(df_2['Employement','Agriculture'].mean()))\n",
    "c = df_Ser.groupby(level = ['Country']).filter(lambda x :x['Employement'].mean()>(df_2['Employement','Services'].mean()))\n",
    "\n",
    "display(a,b,c)"
   ]
  },
  {
   "cell_type": "markdown",
   "id": "48b336e9",
   "metadata": {},
   "source": [
    "Highest Employement in Industries are with India  and Italy\n",
    "Highest Employement in Agriculture are with India and srilanka\n",
    "Highest Employement in Services are with Canada ,Spain and Britan"
   ]
  },
  {
   "cell_type": "code",
   "execution_count": null,
   "id": "3ee43675",
   "metadata": {},
   "outputs": [],
   "source": [
    "\"\"\"Total average change in the GDP and Emplyement from 2014\"\"\"\n",
    "\n",
    "df_average = (df_2.loc[idx[:,['YR2014','YR2016','YR2018'],:]])\n",
    "pd.DataFrame(df_average.groupby(level = ['Country']).transform(lambda x: x - x.mean()).sum(),columns = ['Values'])"
   ]
  },
  {
   "cell_type": "markdown",
   "id": "ee12b63d",
   "metadata": {},
   "source": [
    "AN overall average deviation of attributes over last 6 years shows \n",
    "that the advancements in In service and Industries are pretty high."
   ]
  },
  {
   "cell_type": "code",
   "execution_count": null,
   "id": "a8ff3e9f",
   "metadata": {},
   "outputs": [],
   "source": [
    "\"\"\"Analysing the combined dataframes\n",
    "Merging the two dataframes df_1 and df_2 to create df_new\"\"\"\n",
    "\n",
    "\n",
    "df_new = df_1.merge(df_2,on = ['Country','Year'],how = 'outer')\n",
    "df_new"
   ]
  },
  {
   "cell_type": "code",
   "execution_count": null,
   "id": "edec5112",
   "metadata": {},
   "outputs": [],
   "source": [
    "\"\"\"Grouping the two dataframes with unemployement and GDP factors and \n",
    "finding the overall correlation between these two factors\"\"\"\n",
    "\n",
    "\n",
    "df_new.groupby(level ='Country')[[['unempoyement(%)','Total'],['GDP','gross']]].mean().corr()"
   ]
  },
  {
   "cell_type": "markdown",
   "id": "2f5e825f",
   "metadata": {},
   "source": [
    "It can be estimated that Unemployement can influvence the GDP of any nation Negetively by 11.11%"
   ]
  },
  {
   "cell_type": "code",
   "execution_count": null,
   "id": "e8fb47b4",
   "metadata": {},
   "outputs": [],
   "source": [
    "\"\"\"Mapping the merged dataframe with the external Dictionary 'country Groups ' and performing Groupby to have an\n",
    "   overall analysis about   unemployement ,labour Force and GDP in different regions of the world\n",
    "\"\"\"\n",
    "\n",
    "\n",
    "df_new['Region'] = df_new.index.get_level_values(0).map(country_groups)\n",
    "df_new.groupby('Region')[[['unempoyement(%)','Total'],['GDP','gross'],['labor force(%)','Total']]].sum()\n"
   ]
  },
  {
   "cell_type": "markdown",
   "id": "4668c1f0",
   "metadata": {},
   "source": [
    "It can be infered that Europian Countries have the highest rate of Unemployement and Labour Force.North American Countries have the lowest Rate of Unemployement and Highest GDP.Whereas Asian Countries maintain a moderate Unemployemnt rate , Labour Force and GDP."
   ]
  },
  {
   "cell_type": "code",
   "execution_count": null,
   "id": "5a03e943",
   "metadata": {},
   "outputs": [],
   "source": [
    "df_emp = df_new.groupby('Region').apply(lambda x : x.mean())[['Employement','labor force(%)']]"
   ]
  },
  {
   "cell_type": "code",
   "execution_count": null,
   "id": "619a7b5f",
   "metadata": {},
   "outputs": [],
   "source": [
    "df_emp"
   ]
  },
  {
   "cell_type": "markdown",
   "id": "fa3b9ed4",
   "metadata": {},
   "source": [
    "On Ananlysis North American Countries are having the highest Labour Force 75.27% .To enhance their GDP gross and PPP highly\n",
    "they focus and icrease the employement in service sectors rather than the conventional agriculture and industrial sectors\n",
    "of work.South Asian Countries being least in the list give more importance to the agricultural and industrial sector rather than Services.\n"
   ]
  },
  {
   "cell_type": "markdown",
   "id": "bd238f77",
   "metadata": {},
   "source": [
    "#### END"
   ]
  }
 ],
 "metadata": {
  "kernelspec": {
   "display_name": "Python 3 (ipykernel)",
   "language": "python",
   "name": "python3"
  },
  "language_info": {
   "codemirror_mode": {
    "name": "ipython",
    "version": 3
   },
   "file_extension": ".py",
   "mimetype": "text/x-python",
   "name": "python",
   "nbconvert_exporter": "python",
   "pygments_lexer": "ipython3",
   "version": "3.9.7"
  }
 },
 "nbformat": 4,
 "nbformat_minor": 5
}
